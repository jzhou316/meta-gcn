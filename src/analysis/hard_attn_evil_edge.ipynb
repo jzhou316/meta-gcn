{
 "cells": [
  {
   "cell_type": "code",
   "execution_count": 1,
   "metadata": {},
   "outputs": [
    {
     "data": {
      "text/plain": [
       "'1.2.0'"
      ]
     },
     "execution_count": 1,
     "metadata": {},
     "output_type": "execute_result"
    }
   ],
   "source": [
    "import torch\n",
    "import deepdish as dd\n",
    "\n",
    "torch.__version__"
   ]
  },
  {
   "cell_type": "markdown",
   "metadata": {},
   "source": [
    "#### load the graph and hard attention for all layers"
   ]
  },
  {
   "cell_type": "code",
   "execution_count": 2,
   "metadata": {},
   "outputs": [],
   "source": [
    "graph_path = '../../data/botnet/ev10k/chord_no100k_ev10k_us_test.hdf5'\n",
    "graph_id = 0\n",
    "\n",
    "atts_path = '../saved_models/botnet_ev10k/chord_lay6_rh1_bs0_hatt_out_nh1_t0.5_ep50_test0-attn.pt'"
   ]
  },
  {
   "cell_type": "code",
   "execution_count": 66,
   "metadata": {},
   "outputs": [],
   "source": [
    "graph = dd.io.load(graph_path, f'/{graph_id}')\n",
    "atts = torch.load(atts_path, map_location='cpu')"
   ]
  },
  {
   "cell_type": "code",
   "execution_count": 5,
   "metadata": {},
   "outputs": [],
   "source": [
    "edge_index = torch.tensor(graph['edge_index'])\n",
    "x = torch.tensor(graph['x'])\n",
    "edge_y = torch.tensor(graph['edge_y'])\n",
    "y = graph['y']"
   ]
  },
  {
   "cell_type": "markdown",
   "metadata": {},
   "source": [
    "#### check how many selected edges are in the evil community"
   ]
  },
  {
   "cell_type": "code",
   "execution_count": 107,
   "metadata": {},
   "outputs": [
    {
     "name": "stdout",
     "output_type": "stream",
     "text": [
      "6448\n",
      "8965\n",
      "9784\n",
      "9886\n",
      "9567\n",
      "9288\n"
     ]
    }
   ],
   "source": [
    "for i in range(6):\n",
    "    print((atts[i][edge_y == 1] == 1).sum().item())"
   ]
  },
  {
   "cell_type": "code",
   "execution_count": 134,
   "metadata": {},
   "outputs": [
    {
     "name": "stdout",
     "output_type": "stream",
     "text": [
      "[6448, 8965, 9784, 9886, 9567, 9288]\n"
     ]
    }
   ],
   "source": [
    "edge_mask = torch.tensor(y[edge_index[0]]).bool()\n",
    "import copy\n",
    "\n",
    "n_pick_ee = []\n",
    "for i in range(6):\n",
    "    b = copy.deepcopy(atts[i])\n",
    "    b[~edge_mask] = 0\n",
    "    n_pick_ee.append((b[edge_y == 1] == 1).sum().item())\n",
    "print(n_pick_ee)"
   ]
  },
  {
   "cell_type": "markdown",
   "metadata": {},
   "source": [
    "**Observations**\n",
    "\n",
    "- so the evil egdes are only picked by the evid nodes\n",
    "- which means all the normal nodes picked the normal edges\n",
    "- Among the evil nodes (10000), about 90% picked the evil edges to send info after two layers"
   ]
  },
  {
   "cell_type": "markdown",
   "metadata": {},
   "source": [
    "#### Mark the edges selected by evil nodes"
   ]
  },
  {
   "cell_type": "code",
   "execution_count": 143,
   "metadata": {},
   "outputs": [
    {
     "name": "stdout",
     "output_type": "stream",
     "text": [
      "[6448, 13690, 20103, 25537, 28007, 29725]\n",
      "[10000, 18181, 24787, 30255, 33097, 35407]\n"
     ]
    }
   ],
   "source": [
    "edge_mask = torch.tensor(y[edge_index[0]]).bool()\n",
    "import copy\n",
    "\n",
    "all_b = []\n",
    "all_edges_mask_ee = torch.zeros(edge_mask.size()).bool()\n",
    "all_edges_mask = torch.zeros(edge_mask.size()).bool()\n",
    "n_rec_ee = []\n",
    "n_rec = []\n",
    "for i in range(6):\n",
    "    b = copy.deepcopy(atts[i]).squeeze()\n",
    "    b[~edge_mask] = 0\n",
    "    all_b.append(b)\n",
    "    all_edges_mask_ee = all_edges_mask_ee | (b.bool() & edge_y.bool())\n",
    "    all_edges_mask = all_edges_mask | b.bool()\n",
    "    n_rec_ee.append(all_edges_mask_ee.sum().item())\n",
    "    n_rec.append(all_edges_mask.sum().item())\n",
    "print(n_rec_ee)\n",
    "print(n_rec)"
   ]
  },
  {
   "cell_type": "code",
   "execution_count": 138,
   "metadata": {},
   "outputs": [
    {
     "data": {
      "text/plain": [
       "tensor(29725)"
      ]
     },
     "execution_count": 138,
     "metadata": {},
     "output_type": "execute_result"
    }
   ],
   "source": [
    "all_edges_mask.sum()"
   ]
  },
  {
   "cell_type": "code",
   "execution_count": 139,
   "metadata": {},
   "outputs": [
    {
     "data": {
      "text/plain": [
       "tensor(49566)"
      ]
     },
     "execution_count": 139,
     "metadata": {},
     "output_type": "execute_result"
    }
   ],
   "source": [
    "edge_y.sum()"
   ]
  },
  {
   "cell_type": "markdown",
   "metadata": {},
   "source": [
    "#### draw some plots"
   ]
  },
  {
   "cell_type": "code",
   "execution_count": 144,
   "metadata": {},
   "outputs": [],
   "source": [
    "import matplotlib.pyplot as plt"
   ]
  },
  {
   "cell_type": "code",
   "execution_count": 185,
   "metadata": {},
   "outputs": [
    {
     "data": {
      "image/png": "[encoded data removed]",
      "text/plain": [
       "<Figure size 576x432 with 1 Axes>"
      ]
     },
     "metadata": {
      "needs_background": "light"
     },
     "output_type": "display_data"
    }
   ],
   "source": [
    "# proportion of edges that are evil among all edges that are chosen by evil nodes in every layer\n",
    "plt.figure(figsize=(8, 6))\n",
    "plt.plot([i + 1 for i in range(6)], [n/10000 for n in n_pick_ee], 'b-')\n",
    "plt.xlabel('layer id')\n",
    "plt.ylabel('percentage')\n",
    "plt.title('proportion of evil nodes that selected evil edges (per layer)')\n",
    "plt.savefig('evil_edge1.png')\n",
    "plt.show()"
   ]
  },
  {
   "cell_type": "code",
   "execution_count": 186,
   "metadata": {},
   "outputs": [
    {
     "data": {
      "image/png": "[encoded data removed]",
      "text/plain": [
       "<Figure size 576x432 with 1 Axes>"
      ]
     },
     "metadata": {
      "needs_background": "light"
     },
     "output_type": "display_data"
    }
   ],
   "source": [
    "# proportion of edges that are evil among all edges that are chosen by evil nodes accumulated with layers\n",
    "plt.figure(figsize=(8, 6))\n",
    "plt.plot([i + 1 for i in range(6)], [n/m for n, m in zip(n_rec_ee, n_rec)], 'b-')\n",
    "plt.xlabel('layer id')\n",
    "plt.ylabel('percentage')\n",
    "plt.title('proportion of evil nodes that selected evil edges (accumulated by layers)')\n",
    "plt.savefig('evil_edge2.png')\n",
    "plt.show()"
   ]
  },
  {
   "cell_type": "code",
   "execution_count": 187,
   "metadata": {},
   "outputs": [
    {
     "data": {
      "image/png": "[encoded data removed]",
      "text/plain": [
       "<Figure size 576x432 with 1 Axes>"
      ]
     },
     "metadata": {
      "needs_background": "light"
     },
     "output_type": "display_data"
    }
   ],
   "source": [
    "# proportion of evil edges that are recovered by selection of evil nodes\n",
    "plt.figure(figsize=(8, 6))\n",
    "plt.plot([i + 1 for i in range(6)], [n/edge_y.sum().item() for n in n_rec_ee], 'b-')\n",
    "plt.xlabel('layer id')\n",
    "plt.ylabel('percentage')\n",
    "plt.title('proportion of evil edges that are selected by evil nodes (accumulated by layers)')\n",
    "plt.savefig('evil_edge3.png')\n",
    "plt.show()"
   ]
  },
  {
   "cell_type": "markdown",
   "metadata": {},
   "source": [
    "#### check edges that are connected to evil nodes "
   ]
  },
  {
   "cell_type": "code",
   "execution_count": 173,
   "metadata": {},
   "outputs": [],
   "source": [
    "evil_node_edge_mask = torch.tensor(y[edge_index[0]])"
   ]
  },
  {
   "cell_type": "code",
   "execution_count": 177,
   "metadata": {},
   "outputs": [
    {
     "data": {
      "text/plain": [
       "tensor(49566)"
      ]
     },
     "execution_count": 177,
     "metadata": {},
     "output_type": "execute_result"
    }
   ],
   "source": [
    "evil_node_edge_mask[edge_y == 1].sum()"
   ]
  },
  {
   "cell_type": "code",
   "execution_count": 178,
   "metadata": {},
   "outputs": [
    {
     "data": {
      "text/plain": [
       "tensor(49566)"
      ]
     },
     "execution_count": 178,
     "metadata": {},
     "output_type": "execute_result"
    }
   ],
   "source": [
    "edge_y.sum()"
   ]
  },
  {
   "cell_type": "code",
   "execution_count": 179,
   "metadata": {},
   "outputs": [
    {
     "data": {
      "text/plain": [
       "tensor(153243)"
      ]
     },
     "execution_count": 179,
     "metadata": {},
     "output_type": "execute_result"
    }
   ],
   "source": [
    "evil_node_edge_mask.sum()"
   ]
  },
  {
   "cell_type": "code",
   "execution_count": 180,
   "metadata": {},
   "outputs": [],
   "source": [
    "evil_node_edge_mask1 = torch.tensor(y[edge_index[1]])"
   ]
  },
  {
   "cell_type": "code",
   "execution_count": 184,
   "metadata": {},
   "outputs": [
    {
     "data": {
      "text/plain": [
       "tensor(49566)"
      ]
     },
     "execution_count": 184,
     "metadata": {},
     "output_type": "execute_result"
    }
   ],
   "source": [
    "(evil_node_edge_mask1 & evil_node_edge_mask).sum()"
   ]
  },
  {
   "cell_type": "code",
   "execution_count": null,
   "metadata": {},
   "outputs": [],
   "source": []
  }
 ],
 "metadata": {
  "kernelspec": {
   "display_name": "Python [conda env:.conda-pytorch1.0] *",
   "language": "python",
   "name": "conda-env-.conda-pytorch1.0-py"
  },
  "language_info": {
   "codemirror_mode": {
    "name": "ipython",
    "version": 3
   },
   "file_extension": ".py",
   "mimetype": "text/x-python",
   "name": "python",
   "nbconvert_exporter": "python",
   "pygments_lexer": "ipython3",
   "version": "3.7.2"
  }
 },
 "nbformat": 4,
 "nbformat_minor": 2
}
